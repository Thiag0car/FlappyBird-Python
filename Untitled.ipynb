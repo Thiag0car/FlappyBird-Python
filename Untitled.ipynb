{
 "cells": [
  {
   "cell_type": "code",
   "execution_count": 4,
   "id": "4807a712",
   "metadata": {},
   "outputs": [],
   "source": [
    "import pygame\n",
    "import os\n",
    "import random"
   ]
  },
  {
   "cell_type": "code",
   "execution_count": 7,
   "id": "6b7f7834",
   "metadata": {},
   "outputs": [
    {
     "name": "stdout",
     "output_type": "stream",
     "text": [
      "Enter 1 or 2 to choose the bird images: 1\n"
     ]
    }
   ],
   "source": [
    "IMAGENS_PASSARO_1 = [\n",
    "    pygame.transform.scale2x(pygame.image.load(os.path.join('imgs', 'bird1.png'))),\n",
    "    pygame.transform.scale2x(pygame.image.load(os.path.join('imgs', 'bird2.png'))),\n",
    "    pygame.transform.scale2x(pygame.image.load(os.path.join('imgs', 'bird3.png')))\n",
    "]\n",
    "\n",
    "IMAGENS_PASSARO_2 = [\n",
    "    pygame.transform.scale2x(pygame.image.load(os.path.join('imgs', 'bird1.png'))),\n",
    "    pygame.transform.scale2x(pygame.image.load(os.path.join('imgs', 'bird2.png'))),\n",
    "    pygame.transform.scale2x(pygame.image.load(os.path.join('imgs', 'bird3.png')))\n",
    "]\n",
    "\n",
    "IMAGEM_PASSARO = []\n",
    "\n",
    "# Ask the user to choose a number (1 or 2)\n",
    "user_choice = int(input(\"Enter 1 or 2 to choose the bird images: \"))\n",
    "\n",
    "# Check the user's choice and assign the corresponding list to IMGENS_PASSARO\n",
    "IMGENS_PASSARO = []\n",
    "if user_choice == 1:\n",
    "    IMGENS_PASSARO.extend(IMAGENS_PASSARO_1)\n",
    "elif user_choice == 2:\n",
    "    IMGENS_PASSARO.extend(IMAGENS_PASSARO_2)\n",
    "else:\n",
    "    print(\"Invalid choice. Please enter 1 or 2.\")\n",
    "\n",
    "# Copy the contents of IMGENS_PASSARO to IMAGEM_PASSARO\n",
    "IMAGEM_PASSARO.extend(IMGENS_PASSARO)\n"
   ]
  },
  {
   "cell_type": "code",
   "execution_count": 8,
   "id": "b3ebf87b",
   "metadata": {},
   "outputs": [
    {
     "data": {
      "text/plain": [
       "[<Surface(68x48x8 SW)>, <Surface(68x48x8 SW)>, <Surface(68x48x8 SW)>]"
      ]
     },
     "execution_count": 8,
     "metadata": {},
     "output_type": "execute_result"
    }
   ],
   "source": [
    "IMGENS_PASSARO"
   ]
  },
  {
   "cell_type": "code",
   "execution_count": 9,
   "id": "bcecf05d",
   "metadata": {},
   "outputs": [],
   "source": [
    "IMAGEM_PASSARO = IMAGENS_PASSARO_2"
   ]
  },
  {
   "cell_type": "code",
   "execution_count": 10,
   "id": "54eb10a3",
   "metadata": {},
   "outputs": [
    {
     "data": {
      "text/plain": [
       "[<Surface(68x48x8 SW)>, <Surface(68x48x8 SW)>, <Surface(68x48x8 SW)>]"
      ]
     },
     "execution_count": 10,
     "metadata": {},
     "output_type": "execute_result"
    }
   ],
   "source": [
    "IMAGEM_PASSARO"
   ]
  },
  {
   "cell_type": "code",
   "execution_count": 11,
   "id": "f4b31dd9",
   "metadata": {},
   "outputs": [
    {
     "data": {
      "text/plain": [
       "[<Surface(68x48x8 SW)>, <Surface(68x48x8 SW)>, <Surface(68x48x8 SW)>]"
      ]
     },
     "execution_count": 11,
     "metadata": {},
     "output_type": "execute_result"
    }
   ],
   "source": [
    "IMAGENS_PASSARO_1"
   ]
  },
  {
   "cell_type": "code",
   "execution_count": null,
   "id": "1e01eedd",
   "metadata": {},
   "outputs": [],
   "source": [
    "IMGS = IMAGENS_PASSARO"
   ]
  }
 ],
 "metadata": {
  "kernelspec": {
   "display_name": "Python 3 (ipykernel)",
   "language": "python",
   "name": "python3"
  },
  "language_info": {
   "codemirror_mode": {
    "name": "ipython",
    "version": 3
   },
   "file_extension": ".py",
   "mimetype": "text/x-python",
   "name": "python",
   "nbconvert_exporter": "python",
   "pygments_lexer": "ipython3",
   "version": "3.10.9"
  }
 },
 "nbformat": 4,
 "nbformat_minor": 5
}
